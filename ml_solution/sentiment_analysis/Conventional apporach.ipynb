{
 "cells": [
  {
   "cell_type": "markdown",
   "metadata": {},
   "source": [
    "# 정서 분석"
   ]
  },
  {
   "cell_type": "markdown",
   "metadata": {},
   "source": [
    "## 이번장 다룰 주제\n",
    "    * 연구문제 진술\n",
    "    * 데이터셋 이해\n",
    "    * 기준 모델에 대한 훈련 및 테스트 데이터셋 작성\n",
    "    * 기준 모델의 특징 공학\n",
    "    * 머신러닝 알고리즘 선택\n",
    "    * 기준 모델 훈련\n",
    "    * 테스트 계량 이해\n",
    "    * 기준 모델 테스트\n",
    "    * 기존 접근법의 문제점\n",
    "    * 기존 접근법을 최적화하는 방법\n",
    "        * 접근법 최적화를 위한 주요 개념 이해\n",
    "    * 개선 접근법 구현\n",
    "        * 개선 접근법 테스트\n",
    "        * 개선 접근법의 문제점 이해\n",
    "    * 최선 접근법\n",
    "        * 최선 접근법 구현"
   ]
  },
  {
   "cell_type": "markdown",
   "metadata": {},
   "source": [
    "## 연구문제 진술\n",
    "    - 평판(reviews)이나 견해(opinions)를 분석\n",
    "    - 영화 감상평(movie reviews)을 위한 정서 분석 애플리케이션 개발\n",
    "    - 훈련 과정에서 각 영화 감상평과 관련된 레이블을 고려해 주어진 레이블 기반으로 머신러닝 학습\n",
    "    - 새로운 감상평 속에 담긴 정서를 예측해 제공된 영화 감상평이 긍정인지 부정인지 여부를 가려낸다.\n",
    "    - IMDB(Internet Movie DataBase) 영화 감상평 데이터 셋 고려"
   ]
  },
  {
   "cell_type": "markdown",
   "metadata": {},
   "source": [
    "## 데이터셋 이해\n",
    "    - http://ai.stanford.edu/~amaas/data/sentiment/\n",
    "    1. train 폴더\n",
    "        - 훈련을 위한 데이터가 들어 있다.\n",
    "        - pos 폴더: 긍정적인 영화 감상평, 12,500개 데이터\n",
    "        - neg 폴더: 부정적인 영화 감상평, 12,500개 데이터\n",
    "        - unsup 폴더: 테스트 목적으로 사용\n",
    "        - 이 영화 감상평에는 레이블이 없다\n",
    "    2. test 폴더\n",
    "        - pos 폴더: 긍정적인 영화 감상평, 12,500개 데이터\n",
    "        - neg 폴더: 부정적인 영화 감상평, 12,500개 데이터\n",
    "    3. imdb.vocab 파일\n",
    "        - 모든 영화 감상평에 사용된 고유한 단어가 들어 있는 IMDB 데이터셋의 어휘집 파일\n",
    "    4. imdbEr.txt\n",
    "        - imdb.vocabfile의 각 토큰에 대한 예측평가(expected rating)\n",
    "        - imdb.vocabfile에 제공된 각 단어의 점수\n",
    "        - 긍정적인 단어이면 양의 부동소수점 숫자\n",
    "        - 부정적인 단어이면 음의 부동소수점 숫자\n",
    "    5. REANME\n",
    "        - 데이터셋 관련 문서"
   ]
  },
  {
   "cell_type": "markdown",
   "metadata": {},
   "source": [
    "### 영화 감상평 파일의 내용 이해\n",
    "    - pos폴더와 neg 폴더 안에는 영화 감상평이 포함된 .txt파일 존재\n",
    "    - 영화 감상평은 간단한 일반 텍스트로 제공\n",
    "    - 폴더 이름을 각각 positiveReviews 및 negativeReviews로 변경\n",
    "    - 데이터셋은 이미 전처리되어있으므로 광범위한 전처리를 수행하지 않는다."
   ]
  },
  {
   "cell_type": "markdown",
   "metadata": {},
   "source": [
    "### 정서 분석 애플리케이션을 위한 머신러닝 모델 작성\n",
    "    * 훈련 및 테스트 데이터셋 작성\n",
    "    * 기준 모델의 특징 공학\n",
    "    * 머신러닝 알고리즘 선택\n",
    "    * 기준 모델 훈련\n",
    "    * 테스트 계량 이해\n",
    "    * 기준 모델 테스트"
   ]
  },
  {
   "cell_type": "markdown",
   "metadata": {},
   "source": [
    "## 기준 모델에 대한 훈련 및 테스트 데이터셋 작성\n",
    "    - 데이터셋의 파일을 반복해서 살피고 이름이 숫자 12로 시작하는 모든 파일을 테스트 데이터셋으로 간주\n",
    "    - 데이터셋의 약 90%가 훈련 데이터셋으로 간주되며 데이터셋 10%는 테스트 데이터셋으로 간주"
   ]
  },
  {
   "cell_type": "markdown",
   "metadata": {},
   "source": [
    "***Import dependencies***"
   ]
  },
  {
   "cell_type": "code",
   "execution_count": 1,
   "metadata": {},
   "outputs": [],
   "source": [
    "import os\n",
    "import time\n",
    "\n",
    "from sklearn.feature_extraction.text import TfidfVectorizer\n",
    "from sklearn.naive_bayes import MultinomialNB\n",
    "from sklearn import svm\n",
    "from sklearn.metrics import classification_report\n",
    "from sklearn.metrics import accuracy_score"
   ]
  },
  {
   "cell_type": "markdown",
   "metadata": {},
   "source": [
    "***Build training dataset and testing dataset***"
   ]
  },
  {
   "cell_type": "code",
   "execution_count": 3,
   "metadata": {},
   "outputs": [
    {
     "name": "stdout",
     "output_type": "stream",
     "text": [
      "dir 경로: ./data/positiveReviews\n",
      "dir 경로: ./data/negativeReviews\n"
     ]
    }
   ],
   "source": [
    "data_dir = './data'\n",
    "classes = ['positiveReviews', 'negativeReviews']\n",
    "\n",
    "# Read the data\n",
    "train_data = []\n",
    "train_labels = []\n",
    "test_data = []\n",
    "test_labels = []\n",
    "for curr_class in classes:\n",
    "    dirname = data_dir+'/'+curr_class\n",
    "    print('dir 경로: {}'.format(dirname))\n",
    "    for fname in os.listdir(dirname):\n",
    "        with open((dirname+'/'+fname), 'r', encoding='utf-8') as f:\n",
    "            content = f.read()\n",
    "            if fname.startswith('12'):\n",
    "                test_data.append(content)\n",
    "                test_labels.append(curr_class)\n",
    "            else:\n",
    "                train_data.append(content)\n",
    "                train_labels.append(curr_class)"
   ]
  },
  {
   "cell_type": "markdown",
   "metadata": {},
   "source": [
    "## 기준 모델의 특징 공학\n",
    "    - 자연어 처리 분야에서 원시 텍스트를 숫자 형식으로 변환해야 머신러닝 알고리즘을 해당 숫자 데이터에 적용 가능\n",
    "    - 기법\n",
    "        - 인덱싱, 카운트 기반 벡터화, 용어빈도-역문서빈도 등"
   ]
  },
  {
   "cell_type": "markdown",
   "metadata": {},
   "source": [
    "***Generate feature vector by using TfidfVectorizer***"
   ]
  },
  {
   "cell_type": "code",
   "execution_count": 4,
   "metadata": {},
   "outputs": [],
   "source": [
    "# Create feature vectors\n",
    "vectorizer = TfidfVectorizer(min_df=5, \n",
    "                            max_df = 0.8,\n",
    "                            sublinear_tf=True,\n",
    "                            use_idf=True)\n",
    "train_vectors = vectorizer.fit_transform(train_data)\n",
    "test_vectors = vectorizer.transform(test_data)"
   ]
  },
  {
   "cell_type": "markdown",
   "metadata": {},
   "source": [
    "## 머신러닝 알고리즘 선택\n",
    "    - 사전 확률(prior probability) 및 사후 확률(posterior probability)값은 나이브 베이즈 알고리즘의 기본 기반\n",
    "    - 다항 나이브 베이즈 알고리즘(multinomial naive Bayes algorithm) 사용\n",
    "    - 서포트 벡터 머신(support vector machine, SVM)알고리즘 사용    "
   ]
  },
  {
   "cell_type": "markdown",
   "metadata": {},
   "source": [
    "## 기준 모델 구현\n",
    "    - 네가지 알고리즘 구현\n",
    "        1. 다항 나이브 베이즈\n",
    "        2. 커널 rbf를 사용한 C-서포트 벡터 분류\n",
    "        3. 커널 선형을 사용한 C-서포트 벡터 분류\n",
    "        4. 선형 서포트 벡터 분류"
   ]
  },
  {
   "cell_type": "markdown",
   "metadata": {},
   "source": [
    "***Perform training using different ML algos***"
   ]
  },
  {
   "cell_type": "code",
   "execution_count": 5,
   "metadata": {},
   "outputs": [
    {
     "name": "stdout",
     "output_type": "stream",
     "text": [
      "MultinomialNB\n",
      "SVC, rbf\n",
      "SVC, linear\n",
      "LinearSVC\n"
     ]
    }
   ],
   "source": [
    "# Perform classification with MultinomialNB\n",
    "print('MultinomialNB')\n",
    "clf = MultinomialNB()\n",
    "clf.fit(train_vectors, train_labels)\n",
    "prediction = clf.predict(test_vectors)\n",
    "\n",
    "# Perform Classification with SVM, kernel=rbf\n",
    "print('SVC, rbf')\n",
    "classifier_rbf = svm.SVC()\n",
    "classifier_rbf.fit(train_vectors, train_labels)\n",
    "prediction_rbf = classifier_rbf.predict(test_vectors)\n",
    "\n",
    "#Perform Classification with SVM, kernel=linear\n",
    "print('SVC, linear')\n",
    "classifier_linear = svm.SVC(kernel='linear')\n",
    "classifier_linear.fit(train_vectors, train_labels)\n",
    "prediction_linear = classifier_linear.predict(test_vectors)\n",
    "\n",
    "#Perform classification with SVM, kernel\n",
    "print('LinearSVC')\n",
    "classifier_liblinear = svm.LinearSVC()\n",
    "classifier_liblinear.fit(train_vectors, train_labels)\n",
    "prediction_liblinear = classifier_liblinear.predict(test_vectors)"
   ]
  },
  {
   "cell_type": "markdown",
   "metadata": {},
   "source": [
    "## 테스트 계량 이해\n",
    "    1. 정밀도(precision)\n",
    "        - TP / (TP+FP)\n",
    "    2. 재현율(recall)\n",
    "        - 모든 양성 표본(positive sample)을 찾는 능력\n",
    "        - TP / (TP+FN)\n",
    "    3. F1점수\n",
    "        - 정밀도와 재현율의 조화평균\n",
    "        - 2 * ((정밀도 * 재현율) / (정밀도 + 재현율))\n",
    "    4. 지지도\n",
    "        - 실제 표적 레이블에서 각 클래스의 발생 횟수\n",
    "        - 정밀도, 재형율 및 F1 점수의 평균값 계산에 도움\n",
    "        - 평균 정밀도 = (정밀도.1*지지도.1 + 정밀도.2*지지도.2 + ... + 정밀도.n*지지도.n) / 총 지지도 값\n",
    "        - 평균 재현율 = (재현율.1*지지도.1 + 재현율.2*지지도.2 + ... + 재현율.n*지지도.n) / 총 지지도 값\n",
    "        - 평균 F1-점수 =  = (F1-점수.1*지지도.1 + F1-점수.2*지지도.2 + ... + F1-점수.n*지지도.n) / 총 지지도 값\n",
    "    5. 훈련 정확도"
   ]
  },
  {
   "cell_type": "markdown",
   "metadata": {},
   "source": [
    "***Test th result of MultinomialNB***"
   ]
  },
  {
   "cell_type": "code",
   "execution_count": 6,
   "metadata": {},
   "outputs": [
    {
     "name": "stdout",
     "output_type": "stream",
     "text": [
      "\n",
      "Results for NaiveBayes (MultinomialNB) \n",
      "                 precision    recall  f1-score   support\n",
      "\n",
      "negativeReviews       0.79      0.87      0.82       611\n",
      "positiveReviews       0.85      0.77      0.81       611\n",
      "\n",
      "       accuracy                           0.82      1222\n",
      "      macro avg       0.82      0.82      0.82      1222\n",
      "   weighted avg       0.82      0.82      0.82      1222\n",
      "\n",
      "\n",
      "Accuracy score of Multinomial nive bayes algorithm -----> 0.8158756137479541\n",
      "\n",
      "\n",
      "\n",
      "\n",
      "Reviews Prediction\n",
      "\n",
      "Predicted label is -----> positiveReviews\n",
      "\n",
      "Movie Review is ----->\n",
      "Have no illusions, this IS a morality story. Granger is the troubled ex-buffalo hunter, tempted back to the plains one more time by kill-crazed Taylor. Granger can see the end is near, and feels deeply for the cost of the hunt-on the herds, the Indians and the land itself. Taylor, on the other hand admittedly equates killing buffalo, or Indians to 'being with a woman.' While Granger's role of the tortured hunter is superb, it's Taylor who steals the show, as the demented, immoral 'everyman' out for the fast buck and the goodtimes. There's not a lot of bang-bang here, but the story moves along quickly, and we are treated to a fine character performance by Nolan. The theme of this story is just as poignant today, as in the 1800s-man's relationship to the land and what's on it, and racism. Considering when this was made, the Censors must have been wringing their hankies during the scenes in the 'bawdy house', Taylor's relationship with the squaw, and much of the dialogue. Although downbeat, this is truly a great western picture.\n"
     ]
    }
   ],
   "source": [
    "# print results in a nice table for MultinomialNB\n",
    "print('\\nResults for NaiveBayes (MultinomialNB) ')\n",
    "print(classification_report(test_labels, prediction))\n",
    "print('\\nAccuracy score of Multinomial nive bayes algorithm -----> '+str(accuracy_score(test_labels, prediction)))\n",
    "\n",
    "print('\\n\\n\\n')\n",
    "\n",
    "print('Reviews Prediction')\n",
    "print('\\nPredicted label is -----> '+prediction[10])\n",
    "print('\\nMovie Review is ----->\\n'+test_data[10])"
   ]
  },
  {
   "cell_type": "markdown",
   "metadata": {},
   "source": [
    "***Test the result of SVM with rbf kernel***"
   ]
  },
  {
   "cell_type": "code",
   "execution_count": 7,
   "metadata": {},
   "outputs": [
    {
     "name": "stdout",
     "output_type": "stream",
     "text": [
      "\n",
      "Results for SVM algorithm with rbf kernel\n",
      "                 precision    recall  f1-score   support\n",
      "\n",
      "negativeReviews       0.85      0.88      0.86       611\n",
      "positiveReviews       0.87      0.84      0.86       611\n",
      "\n",
      "       accuracy                           0.86      1222\n",
      "      macro avg       0.86      0.86      0.86      1222\n",
      "   weighted avg       0.86      0.86      0.86      1222\n",
      "\n",
      "\n",
      "Accuracy score of SVM algorithm with rbf kernel -----> 0.8600654664484452\n",
      "\n",
      "\n",
      "\n",
      "\n",
      "Reviews Prediction\n",
      "\n",
      "Predicted label is -----> positiveReviews\n",
      "\n",
      "Movie Review is ----->\n",
      "Have no illusions, this IS a morality story. Granger is the troubled ex-buffalo hunter, tempted back to the plains one more time by kill-crazed Taylor. Granger can see the end is near, and feels deeply for the cost of the hunt-on the herds, the Indians and the land itself. Taylor, on the other hand admittedly equates killing buffalo, or Indians to 'being with a woman.' While Granger's role of the tortured hunter is superb, it's Taylor who steals the show, as the demented, immoral 'everyman' out for the fast buck and the goodtimes. There's not a lot of bang-bang here, but the story moves along quickly, and we are treated to a fine character performance by Nolan. The theme of this story is just as poignant today, as in the 1800s-man's relationship to the land and what's on it, and racism. Considering when this was made, the Censors must have been wringing their hankies during the scenes in the 'bawdy house', Taylor's relationship with the squaw, and much of the dialogue. Although downbeat, this is truly a great western picture.\n"
     ]
    }
   ],
   "source": [
    "# print results in a nice table for SVM algorithm with rbf kernel\n",
    "print('\\nResults for SVM algorithm with rbf kernel')\n",
    "print(classification_report(test_labels, prediction_rbf))\n",
    "print('\\nAccuracy score of SVM algorithm with rbf kernel -----> '+str(accuracy_score(test_labels, prediction_rbf)))\n",
    "\n",
    "print('\\n\\n\\n')\n",
    "\n",
    "print('Reviews Prediction')\n",
    "print('\\nPredicted label is -----> '+prediction_rbf[10])\n",
    "print('\\nMovie Review is ----->\\n'+test_data[10])"
   ]
  },
  {
   "cell_type": "markdown",
   "metadata": {},
   "source": [
    "***Test the result of SVM linear kernel***"
   ]
  },
  {
   "cell_type": "code",
   "execution_count": 8,
   "metadata": {},
   "outputs": [
    {
     "name": "stdout",
     "output_type": "stream",
     "text": [
      "\n",
      "Results for SVM algorithm with linear kernel\n",
      "                 precision    recall  f1-score   support\n",
      "\n",
      "negativeReviews       0.82      0.86      0.84       611\n",
      "positiveReviews       0.85      0.81      0.83       611\n",
      "\n",
      "       accuracy                           0.84      1222\n",
      "      macro avg       0.84      0.84      0.84      1222\n",
      "   weighted avg       0.84      0.84      0.84      1222\n",
      "\n",
      "\n",
      "Accuracy score of SVM algorithm with linear kernel -----> 0.8363338788870703\n",
      "\n",
      "\n",
      "\n",
      "\n",
      "Reviews Prediction\n",
      "\n",
      "Predicted label is -----> positiveReviews\n",
      "\n",
      "Movie Review is ----->\n",
      "Have no illusions, this IS a morality story. Granger is the troubled ex-buffalo hunter, tempted back to the plains one more time by kill-crazed Taylor. Granger can see the end is near, and feels deeply for the cost of the hunt-on the herds, the Indians and the land itself. Taylor, on the other hand admittedly equates killing buffalo, or Indians to 'being with a woman.' While Granger's role of the tortured hunter is superb, it's Taylor who steals the show, as the demented, immoral 'everyman' out for the fast buck and the goodtimes. There's not a lot of bang-bang here, but the story moves along quickly, and we are treated to a fine character performance by Nolan. The theme of this story is just as poignant today, as in the 1800s-man's relationship to the land and what's on it, and racism. Considering when this was made, the Censors must have been wringing their hankies during the scenes in the 'bawdy house', Taylor's relationship with the squaw, and much of the dialogue. Although downbeat, this is truly a great western picture.\n"
     ]
    }
   ],
   "source": [
    "# print results in a nice table for SVM algorithm with linear kernel\n",
    "print('\\nResults for SVM algorithm with linear kernel')\n",
    "print(classification_report(test_labels, prediction_linear))\n",
    "print('\\nAccuracy score of SVM algorithm with linear kernel -----> '+str(accuracy_score(test_labels, prediction_linear)))\n",
    "\n",
    "print('\\n\\n\\n')\n",
    "\n",
    "print('Reviews Prediction')\n",
    "print('\\nPredicted label is -----> '+prediction_linear[10])\n",
    "print('\\nMovie Review is ----->\\n'+test_data[10])"
   ]
  },
  {
   "cell_type": "markdown",
   "metadata": {},
   "source": [
    "***Test the result of SVM with linearSVC***"
   ]
  },
  {
   "cell_type": "code",
   "execution_count": 9,
   "metadata": {},
   "outputs": [
    {
     "name": "stdout",
     "output_type": "stream",
     "text": [
      "\n",
      "Results for SVM algorithm with liblinear kernel\n",
      "                 precision    recall  f1-score   support\n",
      "\n",
      "negativeReviews       0.82      0.86      0.84       611\n",
      "positiveReviews       0.85      0.81      0.83       611\n",
      "\n",
      "       accuracy                           0.84      1222\n",
      "      macro avg       0.84      0.84      0.84      1222\n",
      "   weighted avg       0.84      0.84      0.84      1222\n",
      "\n",
      "\n",
      "Accuracy score of SVM algorithm with liblinear kernel -----> 0.8363338788870703\n",
      "\n",
      "\n",
      "\n",
      "\n",
      "Reviews Prediction\n",
      "\n",
      "Predicted label is -----> positiveReviews\n",
      "\n",
      "Movie Review is ----->\n",
      "Have no illusions, this IS a morality story. Granger is the troubled ex-buffalo hunter, tempted back to the plains one more time by kill-crazed Taylor. Granger can see the end is near, and feels deeply for the cost of the hunt-on the herds, the Indians and the land itself. Taylor, on the other hand admittedly equates killing buffalo, or Indians to 'being with a woman.' While Granger's role of the tortured hunter is superb, it's Taylor who steals the show, as the demented, immoral 'everyman' out for the fast buck and the goodtimes. There's not a lot of bang-bang here, but the story moves along quickly, and we are treated to a fine character performance by Nolan. The theme of this story is just as poignant today, as in the 1800s-man's relationship to the land and what's on it, and racism. Considering when this was made, the Censors must have been wringing their hankies during the scenes in the 'bawdy house', Taylor's relationship with the squaw, and much of the dialogue. Although downbeat, this is truly a great western picture.\n"
     ]
    }
   ],
   "source": [
    "# print results in a nice table for SVM algorithm with liblinear kernel\n",
    "print('\\nResults for SVM algorithm with liblinear kernel')\n",
    "print(classification_report(test_labels, prediction_liblinear))\n",
    "print('\\nAccuracy score of SVM algorithm with liblinear kernel -----> '+str(accuracy_score(test_labels, prediction_liblinear)))\n",
    "\n",
    "print('\\n\\n\\n')\n",
    "\n",
    "print('Reviews Prediction')\n",
    "print('\\nPredicted label is -----> '+prediction_liblinear[10])\n",
    "print('\\nMovie Review is ----->\\n'+test_data[10])"
   ]
  },
  {
   "cell_type": "markdown",
   "metadata": {},
   "source": [
    "## 기존 접근법의 문제점\n",
    "    - 워드 임베딩(word embeding) 기반 기술에 초점을 두지 않았다\n",
    "        -> 워드 임베딩 기술은 텍스트의 의미 유지에 도움이 된다\n",
    "    - CNN과 같은 딥러닝 알고리즘은 우리에게 도움이 될 수 있다"
   ]
  },
  {
   "cell_type": "markdown",
   "metadata": {},
   "source": [
    "## 기존 접근법을 최적화하는 방법\n",
    "    - Word2Vec. GloVe등과 같은 워드 임베딩 기반 기술을 사용\n",
    "    - 딥러닝 알고리즘, 합성곱 신경망(Convolution neural networks, CNN) 구현"
   ]
  },
  {
   "cell_type": "code",
   "execution_count": null,
   "metadata": {},
   "outputs": [],
   "source": []
  }
 ],
 "metadata": {
  "kernelspec": {
   "display_name": "Python 3",
   "language": "python",
   "name": "python3"
  },
  "language_info": {
   "codemirror_mode": {
    "name": "ipython",
    "version": 3
   },
   "file_extension": ".py",
   "mimetype": "text/x-python",
   "name": "python",
   "nbconvert_exporter": "python",
   "pygments_lexer": "ipython3",
   "version": "3.8.5"
  }
 },
 "nbformat": 4,
 "nbformat_minor": 4
}
